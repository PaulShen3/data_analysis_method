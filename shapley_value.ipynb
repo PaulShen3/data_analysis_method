{
 "cells": [
  {
   "cell_type": "code",
   "execution_count": 1,
   "id": "bea8b6a6",
   "metadata": {},
   "outputs": [],
   "source": [
    "import itertools\n",
    "from pathlib import Path\n",
    "from collections import defaultdict\n",
    "from itertools import combinations, permutations\n",
    "import numpy as np \n",
    "import pandas as pd \n",
    "import matplotlib.pyplot as plt\n",
    "import seaborn as sns"
   ]
  },
  {
   "cell_type": "code",
   "execution_count": 11,
   "id": "1763a582",
   "metadata": {},
   "outputs": [],
   "source": [
    "data = {\n",
    "    'marketing_channel_subset':['A', 'B', 'C', 'A,B', 'A,C', 'B,C', 'A,B,C'],\n",
    "    'converted': [10, 30, 5, 50, 40, 35, 100]\n",
    "}\n",
    "\n",
    "df_mark = pd.DataFrame(data)"
   ]
  },
  {
   "cell_type": "code",
   "execution_count": 12,
   "id": "991c9d82",
   "metadata": {},
   "outputs": [
    {
     "data": {
      "text/html": [
       "<div>\n",
       "<style scoped>\n",
       "    .dataframe tbody tr th:only-of-type {\n",
       "        vertical-align: middle;\n",
       "    }\n",
       "\n",
       "    .dataframe tbody tr th {\n",
       "        vertical-align: top;\n",
       "    }\n",
       "\n",
       "    .dataframe thead th {\n",
       "        text-align: right;\n",
       "    }\n",
       "</style>\n",
       "<table border=\"1\" class=\"dataframe\">\n",
       "  <thead>\n",
       "    <tr style=\"text-align: right;\">\n",
       "      <th></th>\n",
       "      <th>marketing_channel_subset</th>\n",
       "      <th>converted</th>\n",
       "    </tr>\n",
       "  </thead>\n",
       "  <tbody>\n",
       "    <tr>\n",
       "      <th>0</th>\n",
       "      <td>A</td>\n",
       "      <td>10</td>\n",
       "    </tr>\n",
       "    <tr>\n",
       "      <th>1</th>\n",
       "      <td>B</td>\n",
       "      <td>30</td>\n",
       "    </tr>\n",
       "    <tr>\n",
       "      <th>2</th>\n",
       "      <td>C</td>\n",
       "      <td>5</td>\n",
       "    </tr>\n",
       "    <tr>\n",
       "      <th>3</th>\n",
       "      <td>A,B</td>\n",
       "      <td>50</td>\n",
       "    </tr>\n",
       "    <tr>\n",
       "      <th>4</th>\n",
       "      <td>A,C</td>\n",
       "      <td>40</td>\n",
       "    </tr>\n",
       "  </tbody>\n",
       "</table>\n",
       "</div>"
      ],
      "text/plain": [
       "  marketing_channel_subset  converted\n",
       "0                        A         10\n",
       "1                        B         30\n",
       "2                        C          5\n",
       "3                      A,B         50\n",
       "4                      A,C         40"
      ]
     },
     "execution_count": 12,
     "metadata": {},
     "output_type": "execute_result"
    }
   ],
   "source": [
    "df_mark.head()"
   ]
  },
  {
   "cell_type": "code",
   "execution_count": 13,
   "id": "46341ca5",
   "metadata": {},
   "outputs": [
    {
     "data": {
      "image/png": "[encoded data removed]",
      "text/plain": [
       "<Figure size 1080x576 with 1 Axes>"
      ]
     },
     "metadata": {
      "needs_background": "light"
     },
     "output_type": "display_data"
    }
   ],
   "source": [
    "def power_set(List):\n",
    "    PS = [list(j) for i in range(len(List)) for j in itertools.combinations(List, i+1)]\n",
    "    return PS\n",
    "\n",
    "def factorial(n):\n",
    "    if n == 0:\n",
    "        return 1\n",
    "    else:\n",
    "        return n * factorial(n-1)\n",
    "    \n",
    "def v_function(A,C_values):\n",
    "    '''\n",
    "    This function computes the worth of each coalition.\n",
    "    inputs:\n",
    "            - A : a coalition of channels.\n",
    "            - C_values : A dictionnary containing the number of conversions that each subset of channels has yielded.\n",
    "    '''\n",
    "    subsets_of_A = subsets(A)\n",
    "    worth_of_A=0\n",
    "    for subset in subsets_of_A:\n",
    "        if subset in C_values:\n",
    "            worth_of_A += C_values[subset]\n",
    "    return worth_of_A\n",
    "\n",
    "def subsets(s):\n",
    "    '''\n",
    "    This function returns all the possible subsets of a set of channels.\n",
    "    input :\n",
    "            - s: a set of channels.\n",
    "    '''\n",
    "    if len(s)==1:\n",
    "        return s\n",
    "    else:\n",
    "        sub_channels=[]\n",
    "        for i in range(1,len(s)+1):\n",
    "            sub_channels.extend(map(list,itertools.combinations(s, i)))\n",
    "    return list(map(\",\".join,map(sorted,sub_channels)))\n",
    "  \n",
    "\n",
    "def calculate_shapley(df, channel_name, conv_name):\n",
    "    '''\n",
    "    This function returns the shapley values\n",
    "            - df: A dataframe with the two columns: ['channel_subset', 'count'].\n",
    "            The channel_subset column is the channel(s) associated with the conversion and the count is the sum of the conversions. \n",
    "            - channel_name: A string that is the name of the channel column \n",
    "            - conv_name: A string that is the name of the column with conversions\n",
    "            **Make sure that that each value in channel_subset is in alphabetical order. Email,PPC and PPC,Email are the same \n",
    "            in regards to this analysis and should be combined under Email,PPC.\n",
    "            \n",
    "    '''\n",
    "    # casting the subset into dict, and getting the unique channels\n",
    "    c_values = df.set_index(channel_name).to_dict()[conv_name]\n",
    "    df['channels'] = df[channel_name].apply(lambda x: x if len(x.split(\",\")) == 1 else np.nan)\n",
    "    channels = list(df['channels'].dropna().unique())\n",
    "    \n",
    "    v_values = {}\n",
    "    for A in power_set(channels): #generate all possible channel combination\n",
    "        v_values[','.join(sorted(A))] = v_function(A,c_values)\n",
    "    n=len(channels) #no. of channels\n",
    "    shapley_values = defaultdict(int)\n",
    "\n",
    "    for channel in channels:\n",
    "        for A in v_values.keys():\n",
    "            if channel not in A.split(\",\"):\n",
    "                cardinal_A=len(A.split(\",\"))\n",
    "                A_with_channel = A.split(\",\")\n",
    "                A_with_channel.append(channel)            \n",
    "                A_with_channel=\",\".join(sorted(A_with_channel))\n",
    "                weight = (factorial(cardinal_A)*factorial(n-cardinal_A-1)/factorial(n)) # Weight = |S|!(n-|S|-1)!/n!\n",
    "                contrib = (v_values[A_with_channel]-v_values[A]) # Marginal contribution = v(S U {i})-v(S)\n",
    "                shapley_values[channel] += weight * contrib\n",
    "        # Add the term corresponding to the empty set\n",
    "        shapley_values[channel]+= v_values[channel]/n \n",
    "        \n",
    "    return shapley_values\n",
    "\n",
    "# 计算渠道shapley value--不考虑顺序\n",
    "shapley_dict = calculate_shapley(df_mark, 'marketing_channel_subset', 'converted')\n",
    "shapley_result = pd.DataFrame(list(shapley_dict.items()), columns=['channel', 'shapley_value'])\n",
    "\n",
    "# 绘制条形图\n",
    "plt.subplots(figsize=(15,8))\n",
    "s = sns.barplot(x='channel', y='shapley_value', data=shapley_result)\n",
    "sns.despine(top=True, right=True)\n",
    "for idx, row in shapley_result.iterrows():\n",
    "    s.text(row.name, row.shapley_value +5, round(row.shapley_value,1), ha='center', color='darkslategray', fontweight='semibold')\n",
    "plt.title(\"ADVERTISING CHANNEL'S SHAPLEY VALUE\", \n",
    "          fontdict={'fontsize': 15, 'fontweight': 'semibold', 'color':'#444444'}, \n",
    "          loc='center', pad=10)\n",
    "plt.show()"
   ]
  },
  {
   "cell_type": "code",
   "execution_count": null,
   "id": "0e784526",
   "metadata": {},
   "outputs": [],
   "source": []
  },
  {
   "cell_type": "code",
   "execution_count": null,
   "id": "148357f3",
   "metadata": {},
   "outputs": [],
   "source": []
  },
  {
   "cell_type": "code",
   "execution_count": null,
   "id": "6306ca9c",
   "metadata": {},
   "outputs": [],
   "source": []
  }
 ],
 "metadata": {
  "kernelspec": {
   "display_name": "Python 3 (ipykernel)",
   "language": "python",
   "name": "python3"
  },
  "language_info": {
   "codemirror_mode": {
    "name": "ipython",
    "version": 3
   },
   "file_extension": ".py",
   "mimetype": "text/x-python",
   "name": "python",
   "nbconvert_exporter": "python",
   "pygments_lexer": "ipython3",
   "version": "3.9.12"
  }
 },
 "nbformat": 4,
 "nbformat_minor": 5
}
